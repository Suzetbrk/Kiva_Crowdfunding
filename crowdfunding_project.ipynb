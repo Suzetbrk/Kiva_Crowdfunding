{
 "cells": [
  {
   "cell_type": "code",
   "execution_count": 1,
   "metadata": {},
   "outputs": [],
   "source": [
    "import pandas as pd\n",
    "import matplotlib.pyplot as plt\n",
    "import seaborn as sns\n",
    "from datetime import datetime\n",
    "%matplotlib inline"
   ]
  },
  {
   "cell_type": "code",
   "execution_count": 2,
   "metadata": {},
   "outputs": [
    {
     "data": {
      "text/html": [
       "<style>.container { width:100% !important; }</style>"
      ],
      "text/plain": [
       "<IPython.core.display.HTML object>"
      ]
     },
     "metadata": {},
     "output_type": "display_data"
    }
   ],
   "source": [
    "from IPython.core.display import display, HTML\n",
    "display(HTML(\"<style>.container { width:100% !important; }</style>\"))"
   ]
  },
  {
   "cell_type": "code",
   "execution_count": 3,
   "metadata": {},
   "outputs": [
    {
     "name": "stdout",
     "output_type": "stream",
     "text": [
      "Wall time: 9min 10s\n"
     ]
    }
   ],
   "source": [
    "%%time\n",
    "loans_data=pd.read_csv(\"kiva_ds_csv/loans.csv\")"
   ]
  },
  {
   "cell_type": "code",
   "execution_count": 4,
   "metadata": {},
   "outputs": [],
   "source": [
    "loans_data.columns = [x.lower() for x in loans_data.columns]"
   ]
  },
  {
   "cell_type": "code",
   "execution_count": 5,
   "metadata": {},
   "outputs": [],
   "source": [
    "# loans_data[['POSTED_TIME','PLANNED_EXPIRATION_TIME','DISBURSE_TIME','RAISED_TIME']] = pd.to_datetime(loans_data[['POSTED_TIME','PLANNED_EXPIRATION_TIME','DISBURSE_TIME','RAISED_TIME']],infer_datetime_format=True)\n",
    "loans_data[['posted_time','planned_expiration_time','disburse_time','raised_time']] = loans_data[['posted_time','planned_expiration_time','disburse_time','raised_time']].apply(pd.to_datetime)"
   ]
  },
  {
   "cell_type": "code",
   "execution_count": 6,
   "metadata": {},
   "outputs": [
    {
     "name": "stdout",
     "output_type": "stream",
     "text": [
      "Wall time: 796 ms\n"
     ]
    },
    {
     "data": {
      "text/plain": [
       "2018    229633\n",
       "2017    225476\n",
       "2019    219005\n",
       "2016    197236\n",
       "2015    181835\n",
       "2020    176490\n",
       "2014    174232\n",
       "2021    142279\n",
       "2013    140035\n",
       "2012    133847\n",
       "2011    113009\n",
       "2010     92902\n",
       "2009     81629\n",
       "2008     50697\n",
       "2007     26314\n",
       "2006      3200\n",
       "Name: posted_time, dtype: int64"
      ]
     },
     "execution_count": 6,
     "metadata": {},
     "output_type": "execute_result"
    }
   ],
   "source": [
    "%%time\n",
    "loans_data['posted_time'].dt.year.value_counts(sort=True)"
   ]
  },
  {
   "cell_type": "code",
   "execution_count": 7,
   "metadata": {},
   "outputs": [
    {
     "data": {
      "text/plain": [
       "(2187819, 34)"
      ]
     },
     "execution_count": 7,
     "metadata": {},
     "output_type": "execute_result"
    }
   ],
   "source": [
    "nrow, ncol = loans_data.shape\n",
    "nrow, ncol"
   ]
  },
  {
   "cell_type": "code",
   "execution_count": 8,
   "metadata": {},
   "outputs": [
    {
     "data": {
      "text/html": [
       "<div>\n",
       "<style scoped>\n",
       "    .dataframe tbody tr th:only-of-type {\n",
       "        vertical-align: middle;\n",
       "    }\n",
       "\n",
       "    .dataframe tbody tr th {\n",
       "        vertical-align: top;\n",
       "    }\n",
       "\n",
       "    .dataframe thead th {\n",
       "        text-align: right;\n",
       "    }\n",
       "</style>\n",
       "<table border=\"1\" class=\"dataframe\">\n",
       "  <thead>\n",
       "    <tr style=\"text-align: right;\">\n",
       "      <th></th>\n",
       "      <th>loan_name</th>\n",
       "      <th>original_language</th>\n",
       "      <th>description</th>\n",
       "      <th>description_translated</th>\n",
       "      <th>status</th>\n",
       "      <th>activity_name</th>\n",
       "      <th>sector_name</th>\n",
       "      <th>loan_use</th>\n",
       "      <th>country_code</th>\n",
       "      <th>country_name</th>\n",
       "      <th>town_name</th>\n",
       "      <th>currency_policy</th>\n",
       "      <th>currency</th>\n",
       "      <th>tags</th>\n",
       "      <th>borrower_names</th>\n",
       "      <th>borrower_genders</th>\n",
       "      <th>borrower_pictured</th>\n",
       "      <th>repayment_interval</th>\n",
       "      <th>distribution_model</th>\n",
       "    </tr>\n",
       "  </thead>\n",
       "  <tbody>\n",
       "    <tr>\n",
       "      <td>0</td>\n",
       "      <td>Emelisa</td>\n",
       "      <td>English</td>\n",
       "      <td>Emelisa is 32 years old.  With two children in...</td>\n",
       "      <td>Emelisa is 32 years old.  With two children in...</td>\n",
       "      <td>funded</td>\n",
       "      <td>General Store</td>\n",
       "      <td>Retail</td>\n",
       "      <td>to buy items to sell like beverages, canned go...</td>\n",
       "      <td>PH</td>\n",
       "      <td>Philippines</td>\n",
       "      <td>Calbayog City 2, Samar</td>\n",
       "      <td>shared</td>\n",
       "      <td>PHP</td>\n",
       "      <td>#Woman-Owned Business</td>\n",
       "      <td>Emelisa</td>\n",
       "      <td>female</td>\n",
       "      <td>true</td>\n",
       "      <td>monthly</td>\n",
       "      <td>field_partner</td>\n",
       "    </tr>\n",
       "    <tr>\n",
       "      <td>1</td>\n",
       "      <td>Samol</td>\n",
       "      <td>English</td>\n",
       "      <td>Samol is married and she lives with her husban...</td>\n",
       "      <td>Samol is married and she lives with her husban...</td>\n",
       "      <td>funded</td>\n",
       "      <td>Personal Housing Expenses</td>\n",
       "      <td>Housing</td>\n",
       "      <td>to purchase construction material.</td>\n",
       "      <td>KH</td>\n",
       "      <td>Cambodia</td>\n",
       "      <td>Prek Pnov District</td>\n",
       "      <td>standard</td>\n",
       "      <td>USD</td>\n",
       "      <td>#Repair Renew Replace, #Parent</td>\n",
       "      <td>Samol</td>\n",
       "      <td>female</td>\n",
       "      <td>true</td>\n",
       "      <td>monthly</td>\n",
       "      <td>field_partner</td>\n",
       "    </tr>\n",
       "    <tr>\n",
       "      <td>2</td>\n",
       "      <td>ABLA</td>\n",
       "      <td>French</td>\n",
       "      <td>Abla est une femme célibataire qui habite à Ag...</td>\n",
       "      <td>Abla is an unmarried woman living in Agoe. She...</td>\n",
       "      <td>funded</td>\n",
       "      <td>Food Production/Sales</td>\n",
       "      <td>Food</td>\n",
       "      <td>to buy 5 sacks of corn, 2 cans of oil, and a s...</td>\n",
       "      <td>TG</td>\n",
       "      <td>Togo</td>\n",
       "      <td>Agoe</td>\n",
       "      <td>shared</td>\n",
       "      <td>XOF</td>\n",
       "      <td>#Woman-Owned Business, user_favorite</td>\n",
       "      <td>ABLA</td>\n",
       "      <td>female</td>\n",
       "      <td>true</td>\n",
       "      <td>monthly</td>\n",
       "      <td>field_partner</td>\n",
       "    </tr>\n",
       "    <tr>\n",
       "      <td>3</td>\n",
       "      <td>Emanuellita</td>\n",
       "      <td>English</td>\n",
       "      <td>Emanuellita works hard to support six children...</td>\n",
       "      <td>Emanuellita works hard to support six children...</td>\n",
       "      <td>funded</td>\n",
       "      <td>Personal Housing Expenses</td>\n",
       "      <td>Housing</td>\n",
       "      <td>to build a sanitary toilet</td>\n",
       "      <td>PH</td>\n",
       "      <td>Philippines</td>\n",
       "      <td>Cordova, Cebu</td>\n",
       "      <td>shared</td>\n",
       "      <td>PHP</td>\n",
       "      <td>#Health and Sanitation, #Eco-friendly</td>\n",
       "      <td>Emanuellita</td>\n",
       "      <td>female</td>\n",
       "      <td>true</td>\n",
       "      <td>monthly</td>\n",
       "      <td>field_partner</td>\n",
       "    </tr>\n",
       "    <tr>\n",
       "      <td>4</td>\n",
       "      <td>Leizel</td>\n",
       "      <td>English</td>\n",
       "      <td>Leizel is 26 years old and married with one ch...</td>\n",
       "      <td>NaN</td>\n",
       "      <td>funded</td>\n",
       "      <td>Livestock</td>\n",
       "      <td>Agriculture</td>\n",
       "      <td>to buy livestock to raise</td>\n",
       "      <td>PH</td>\n",
       "      <td>Philippines</td>\n",
       "      <td>Kabankalan, Negros Occidental</td>\n",
       "      <td>shared</td>\n",
       "      <td>PHP</td>\n",
       "      <td>NaN</td>\n",
       "      <td>Leizel</td>\n",
       "      <td>female</td>\n",
       "      <td>true</td>\n",
       "      <td>monthly</td>\n",
       "      <td>field_partner</td>\n",
       "    </tr>\n",
       "  </tbody>\n",
       "</table>\n",
       "</div>"
      ],
      "text/plain": [
       "     loan_name original_language  \\\n",
       "0      Emelisa           English   \n",
       "1        Samol           English   \n",
       "2         ABLA            French   \n",
       "3  Emanuellita           English   \n",
       "4       Leizel           English   \n",
       "\n",
       "                                         description  \\\n",
       "0  Emelisa is 32 years old.  With two children in...   \n",
       "1  Samol is married and she lives with her husban...   \n",
       "2  Abla est une femme célibataire qui habite à Ag...   \n",
       "3  Emanuellita works hard to support six children...   \n",
       "4  Leizel is 26 years old and married with one ch...   \n",
       "\n",
       "                              description_translated  status  \\\n",
       "0  Emelisa is 32 years old.  With two children in...  funded   \n",
       "1  Samol is married and she lives with her husban...  funded   \n",
       "2  Abla is an unmarried woman living in Agoe. She...  funded   \n",
       "3  Emanuellita works hard to support six children...  funded   \n",
       "4                                                NaN  funded   \n",
       "\n",
       "               activity_name  sector_name  \\\n",
       "0              General Store       Retail   \n",
       "1  Personal Housing Expenses      Housing   \n",
       "2      Food Production/Sales         Food   \n",
       "3  Personal Housing Expenses      Housing   \n",
       "4                  Livestock  Agriculture   \n",
       "\n",
       "                                            loan_use country_code  \\\n",
       "0  to buy items to sell like beverages, canned go...           PH   \n",
       "1                 to purchase construction material.           KH   \n",
       "2  to buy 5 sacks of corn, 2 cans of oil, and a s...           TG   \n",
       "3                         to build a sanitary toilet           PH   \n",
       "4                          to buy livestock to raise           PH   \n",
       "\n",
       "  country_name                      town_name currency_policy currency  \\\n",
       "0  Philippines         Calbayog City 2, Samar          shared      PHP   \n",
       "1     Cambodia             Prek Pnov District        standard      USD   \n",
       "2         Togo                           Agoe          shared      XOF   \n",
       "3  Philippines                  Cordova, Cebu          shared      PHP   \n",
       "4  Philippines  Kabankalan, Negros Occidental          shared      PHP   \n",
       "\n",
       "                                    tags borrower_names borrower_genders  \\\n",
       "0                  #Woman-Owned Business        Emelisa           female   \n",
       "1         #Repair Renew Replace, #Parent          Samol           female   \n",
       "2   #Woman-Owned Business, user_favorite           ABLA           female   \n",
       "3  #Health and Sanitation, #Eco-friendly    Emanuellita           female   \n",
       "4                                    NaN         Leizel           female   \n",
       "\n",
       "  borrower_pictured repayment_interval distribution_model  \n",
       "0              true            monthly      field_partner  \n",
       "1              true            monthly      field_partner  \n",
       "2              true            monthly      field_partner  \n",
       "3              true            monthly      field_partner  \n",
       "4              true            monthly      field_partner  "
      ]
     },
     "execution_count": 8,
     "metadata": {},
     "output_type": "execute_result"
    }
   ],
   "source": [
    "#EDA for Categorical Variables\n",
    "ds_cat = loans_data.select_dtypes(include = 'object').copy()\n",
    "ds_cat.head()"
   ]
  },
  {
   "cell_type": "code",
   "execution_count": 9,
   "metadata": {},
   "outputs": [
    {
     "data": {
      "text/html": [
       "<div>\n",
       "<style scoped>\n",
       "    .dataframe tbody tr th:only-of-type {\n",
       "        vertical-align: middle;\n",
       "    }\n",
       "\n",
       "    .dataframe tbody tr th {\n",
       "        vertical-align: top;\n",
       "    }\n",
       "\n",
       "    .dataframe thead th {\n",
       "        text-align: right;\n",
       "    }\n",
       "</style>\n",
       "<table border=\"1\" class=\"dataframe\">\n",
       "  <thead>\n",
       "    <tr style=\"text-align: right;\">\n",
       "      <th></th>\n",
       "      <th>column</th>\n",
       "      <th>values</th>\n",
       "      <th>values_count_incna</th>\n",
       "      <th>values_count_nona</th>\n",
       "      <th>num_miss</th>\n",
       "      <th>pct_miss</th>\n",
       "    </tr>\n",
       "  </thead>\n",
       "  <tbody>\n",
       "    <tr>\n",
       "      <td>0</td>\n",
       "      <td>loan_name</td>\n",
       "      <td>[Emelisa, Samol, ABLA, Emanuellita, Leizel, na...</td>\n",
       "      <td>477941</td>\n",
       "      <td>477940</td>\n",
       "      <td>50390</td>\n",
       "      <td>2.3</td>\n",
       "    </tr>\n",
       "    <tr>\n",
       "      <td>0</td>\n",
       "      <td>original_language</td>\n",
       "      <td>[English, French, nan, Spanish, Russian, Portu...</td>\n",
       "      <td>9</td>\n",
       "      <td>8</td>\n",
       "      <td>46041</td>\n",
       "      <td>2.1</td>\n",
       "    </tr>\n",
       "    <tr>\n",
       "      <td>0</td>\n",
       "      <td>description</td>\n",
       "      <td>[Emelisa is 32 years old.  With two children i...</td>\n",
       "      <td>2137257</td>\n",
       "      <td>2137256</td>\n",
       "      <td>46270</td>\n",
       "      <td>2.1</td>\n",
       "    </tr>\n",
       "    <tr>\n",
       "      <td>0</td>\n",
       "      <td>description_translated</td>\n",
       "      <td>[Emelisa is 32 years old.  With two children i...</td>\n",
       "      <td>1728027</td>\n",
       "      <td>1728026</td>\n",
       "      <td>455656</td>\n",
       "      <td>20.8</td>\n",
       "    </tr>\n",
       "    <tr>\n",
       "      <td>0</td>\n",
       "      <td>status</td>\n",
       "      <td>[funded, expired, refunded, fundRaising]</td>\n",
       "      <td>4</td>\n",
       "      <td>4</td>\n",
       "      <td>0</td>\n",
       "      <td>0.0</td>\n",
       "    </tr>\n",
       "    <tr>\n",
       "      <td>0</td>\n",
       "      <td>activity_name</td>\n",
       "      <td>[General Store, Personal Housing Expenses, Foo...</td>\n",
       "      <td>163</td>\n",
       "      <td>163</td>\n",
       "      <td>0</td>\n",
       "      <td>0.0</td>\n",
       "    </tr>\n",
       "    <tr>\n",
       "      <td>0</td>\n",
       "      <td>sector_name</td>\n",
       "      <td>[Retail, Housing, Food, Agriculture, Services,...</td>\n",
       "      <td>15</td>\n",
       "      <td>15</td>\n",
       "      <td>0</td>\n",
       "      <td>0.0</td>\n",
       "    </tr>\n",
       "    <tr>\n",
       "      <td>0</td>\n",
       "      <td>loan_use</td>\n",
       "      <td>[to buy items to sell like beverages, canned g...</td>\n",
       "      <td>1284418</td>\n",
       "      <td>1284417</td>\n",
       "      <td>46064</td>\n",
       "      <td>2.1</td>\n",
       "    </tr>\n",
       "    <tr>\n",
       "      <td>0</td>\n",
       "      <td>country_code</td>\n",
       "      <td>[PH, KH, TG, KE, PS, PK, TO, LB, CL, AM, MG, K...</td>\n",
       "      <td>99</td>\n",
       "      <td>98</td>\n",
       "      <td>36</td>\n",
       "      <td>0.0</td>\n",
       "    </tr>\n",
       "    <tr>\n",
       "      <td>0</td>\n",
       "      <td>country_name</td>\n",
       "      <td>[Philippines, Cambodia, Togo, Kenya, Palestine...</td>\n",
       "      <td>99</td>\n",
       "      <td>99</td>\n",
       "      <td>0</td>\n",
       "      <td>0.0</td>\n",
       "    </tr>\n",
       "    <tr>\n",
       "      <td>0</td>\n",
       "      <td>town_name</td>\n",
       "      <td>[Calbayog City 2, Samar, Prek Pnov District, A...</td>\n",
       "      <td>29699</td>\n",
       "      <td>29698</td>\n",
       "      <td>179120</td>\n",
       "      <td>8.2</td>\n",
       "    </tr>\n",
       "    <tr>\n",
       "      <td>0</td>\n",
       "      <td>currency_policy</td>\n",
       "      <td>[shared, standard]</td>\n",
       "      <td>2</td>\n",
       "      <td>2</td>\n",
       "      <td>0</td>\n",
       "      <td>0.0</td>\n",
       "    </tr>\n",
       "    <tr>\n",
       "      <td>0</td>\n",
       "      <td>currency</td>\n",
       "      <td>[PHP, USD, XOF, KES, KHR, PKR, TOP, CLP, AMD, ...</td>\n",
       "      <td>78</td>\n",
       "      <td>78</td>\n",
       "      <td>0</td>\n",
       "      <td>0.0</td>\n",
       "    </tr>\n",
       "    <tr>\n",
       "      <td>0</td>\n",
       "      <td>tags</td>\n",
       "      <td>[#Woman-Owned Business, #Repair Renew Replace,...</td>\n",
       "      <td>232250</td>\n",
       "      <td>232249</td>\n",
       "      <td>975819</td>\n",
       "      <td>44.6</td>\n",
       "    </tr>\n",
       "    <tr>\n",
       "      <td>0</td>\n",
       "      <td>borrower_names</td>\n",
       "      <td>[Emelisa, Samol, ABLA, Emanuellita, Leizel, na...</td>\n",
       "      <td>637228</td>\n",
       "      <td>637227</td>\n",
       "      <td>50390</td>\n",
       "      <td>2.3</td>\n",
       "    </tr>\n",
       "    <tr>\n",
       "      <td>0</td>\n",
       "      <td>borrower_genders</td>\n",
       "      <td>[female, nan, male, female, female, female, fe...</td>\n",
       "      <td>26535</td>\n",
       "      <td>26534</td>\n",
       "      <td>46041</td>\n",
       "      <td>2.1</td>\n",
       "    </tr>\n",
       "    <tr>\n",
       "      <td>0</td>\n",
       "      <td>borrower_pictured</td>\n",
       "      <td>[true, nan, true, true, true, true, true, true...</td>\n",
       "      <td>7911</td>\n",
       "      <td>7910</td>\n",
       "      <td>46041</td>\n",
       "      <td>2.1</td>\n",
       "    </tr>\n",
       "    <tr>\n",
       "      <td>0</td>\n",
       "      <td>repayment_interval</td>\n",
       "      <td>[monthly, irregular, bullet]</td>\n",
       "      <td>3</td>\n",
       "      <td>3</td>\n",
       "      <td>0</td>\n",
       "      <td>0.0</td>\n",
       "    </tr>\n",
       "    <tr>\n",
       "      <td>0</td>\n",
       "      <td>distribution_model</td>\n",
       "      <td>[field_partner, direct]</td>\n",
       "      <td>2</td>\n",
       "      <td>2</td>\n",
       "      <td>0</td>\n",
       "      <td>0.0</td>\n",
       "    </tr>\n",
       "  </tbody>\n",
       "</table>\n",
       "</div>"
      ],
      "text/plain": [
       "                   column                                             values  \\\n",
       "0               loan_name  [Emelisa, Samol, ABLA, Emanuellita, Leizel, na...   \n",
       "0       original_language  [English, French, nan, Spanish, Russian, Portu...   \n",
       "0             description  [Emelisa is 32 years old.  With two children i...   \n",
       "0  description_translated  [Emelisa is 32 years old.  With two children i...   \n",
       "0                  status           [funded, expired, refunded, fundRaising]   \n",
       "0           activity_name  [General Store, Personal Housing Expenses, Foo...   \n",
       "0             sector_name  [Retail, Housing, Food, Agriculture, Services,...   \n",
       "0                loan_use  [to buy items to sell like beverages, canned g...   \n",
       "0            country_code  [PH, KH, TG, KE, PS, PK, TO, LB, CL, AM, MG, K...   \n",
       "0            country_name  [Philippines, Cambodia, Togo, Kenya, Palestine...   \n",
       "0               town_name  [Calbayog City 2, Samar, Prek Pnov District, A...   \n",
       "0         currency_policy                                 [shared, standard]   \n",
       "0                currency  [PHP, USD, XOF, KES, KHR, PKR, TOP, CLP, AMD, ...   \n",
       "0                    tags  [#Woman-Owned Business, #Repair Renew Replace,...   \n",
       "0          borrower_names  [Emelisa, Samol, ABLA, Emanuellita, Leizel, na...   \n",
       "0        borrower_genders  [female, nan, male, female, female, female, fe...   \n",
       "0       borrower_pictured  [true, nan, true, true, true, true, true, true...   \n",
       "0      repayment_interval                       [monthly, irregular, bullet]   \n",
       "0      distribution_model                            [field_partner, direct]   \n",
       "\n",
       "  values_count_incna values_count_nona num_miss  pct_miss  \n",
       "0             477941            477940    50390       2.3  \n",
       "0                  9                 8    46041       2.1  \n",
       "0            2137257           2137256    46270       2.1  \n",
       "0            1728027           1728026   455656      20.8  \n",
       "0                  4                 4        0       0.0  \n",
       "0                163               163        0       0.0  \n",
       "0                 15                15        0       0.0  \n",
       "0            1284418           1284417    46064       2.1  \n",
       "0                 99                98       36       0.0  \n",
       "0                 99                99        0       0.0  \n",
       "0              29699             29698   179120       8.2  \n",
       "0                  2                 2        0       0.0  \n",
       "0                 78                78        0       0.0  \n",
       "0             232250            232249   975819      44.6  \n",
       "0             637228            637227    50390       2.3  \n",
       "0              26535             26534    46041       2.1  \n",
       "0               7911              7910    46041       2.1  \n",
       "0                  3                 3        0       0.0  \n",
       "0                  2                 2        0       0.0  "
      ]
     },
     "execution_count": 9,
     "metadata": {},
     "output_type": "execute_result"
    }
   ],
   "source": [
    "ds_cat_stats = pd.DataFrame(columns = ['column', 'values', 'values_count_incna', 'values_count_nona', \n",
    "                                       'num_miss', 'pct_miss'])\n",
    "tmp = pd.DataFrame()\n",
    "\n",
    "for c in ds_cat.columns:\n",
    "    tmp['column'] = [c]\n",
    "    tmp['values'] = [ds_cat[c].unique()]\n",
    "    tmp['values_count_incna'] = len(list(ds_cat[c].unique()))\n",
    "    tmp['values_count_nona'] = int(ds_cat[c].nunique())\n",
    "    tmp['num_miss'] = ds_cat[c].isnull().sum()\n",
    "    tmp['pct_miss'] = (ds_cat[c].isnull().sum()/ len(ds_cat)).round(3)*100\n",
    "    ds_cat_stats = ds_cat_stats.append(tmp)\n",
    "    \n",
    "ds_cat_stats"
   ]
  },
  {
   "cell_type": "code",
   "execution_count": 97,
   "metadata": {},
   "outputs": [],
   "source": [
    "#drop columns that will not be used for modeling\n",
    "loans=loans_data.drop([\n",
    "    'description',\n",
    "    'description_translated',\n",
    "    'country_code','town_name',\n",
    "    'currency_exchange_coverage_rate',\n",
    "    'planned_expiration_time',\n",
    "    \n",
    "    'borrower_names',\n",
    "    'loan_name',\n",
    "    'image_id',\n",
    "    'video_id',\n",
    "    #'num_journal_entries',# find the meaning before dropping, use boxplot\n",
    "    #'num_bulk_entries',#boxplot\n",
    "    'tags',\n",
    "    'raised_time',\n",
    "    'disburse_time',\n",
    "    'activity_name',\n",
    "    'loan_use'],\n",
    "    axis=1)"
   ]
  },
  {
   "cell_type": "code",
   "execution_count": 99,
   "metadata": {},
   "outputs": [
    {
     "data": {
      "text/plain": [
       "<matplotlib.axes._subplots.AxesSubplot at 0x1720aa5eec8>"
      ]
     },
     "execution_count": 99,
     "metadata": {},
     "output_type": "execute_result"
    },
    {
     "data": {
      "image/png": "[encoded data removed]",
      "text/plain": [
       "<Figure size 432x288 with 1 Axes>"
      ]
     },
     "metadata": {},
     "output_type": "display_data"
    }
   ],
   "source": [
    "sns.boxplot (y='num_bulk_entries',x='status',hue='status',data=loans)"
   ]
  },
  {
   "cell_type": "code",
   "execution_count": 100,
   "metadata": {},
   "outputs": [],
   "source": [
    "#rename columns\n",
    "loans.rename(columns={\"borrower_genders\": \"gender\"},inplace=True)\n",
    "loans.dropna(subset = ['gender'],inplace=True)"
   ]
  },
  {
   "cell_type": "code",
   "execution_count": 101,
   "metadata": {},
   "outputs": [],
   "source": [
    "loans['group_gender'] = loans['gender'].map({'male':'male','female':'female'}).fillna('group')"
   ]
  },
  {
   "cell_type": "code",
   "execution_count": 102,
   "metadata": {},
   "outputs": [
    {
     "data": {
      "text/plain": [
       "female    1417379\n",
       "male       436449\n",
       "group      287950\n",
       "Name: group_gender, dtype: int64"
      ]
     },
     "execution_count": 102,
     "metadata": {},
     "output_type": "execute_result"
    }
   ],
   "source": [
    "loans['group_gender'].value_counts()"
   ]
  },
  {
   "cell_type": "code",
   "execution_count": 103,
   "metadata": {},
   "outputs": [],
   "source": [
    "#remove empty spaces and change gender column into a list\n",
    "loans['gender'] = loans.gender.apply(lambda x: x.replace(' ',''))\n",
    "loans['gender_list'] = loans.gender.apply(lambda x: x.split(','))"
   ]
  },
  {
   "cell_type": "code",
   "execution_count": 104,
   "metadata": {},
   "outputs": [],
   "source": [
    "'''\n",
    "for loans submitted by a group of people we counted the gender proportion\n",
    "'the gender' of the group was assigned according to the gender of the majority\n",
    "'''\n",
    "from collections import Counter\n",
    "loans['gender_counts'] = loans.gender_list.apply(lambda x: Counter(x))\n",
    "loans['dominant_gender'] = loans.gender_counts.apply(lambda x: x.most_common(1)[0][0])\n",
    "#c = Counter(loans.gender_list[1053])\n",
    "#c"
   ]
  },
  {
   "cell_type": "code",
   "execution_count": 105,
   "metadata": {
    "scrolled": true
   },
   "outputs": [
    {
     "data": {
      "text/plain": [
       "female         1669584\n",
       "male            472140\n",
       "unspecified         54\n",
       "Name: dominant_gender, dtype: int64"
      ]
     },
     "execution_count": 105,
     "metadata": {},
     "output_type": "execute_result"
    }
   ],
   "source": [
    "loans.dominant_gender.value_counts()"
   ]
  },
  {
   "cell_type": "code",
   "execution_count": 106,
   "metadata": {},
   "outputs": [],
   "source": [
    "#drop rows where gender is unspecified\n",
    "loans=loans.loc[loans['dominant_gender']!='unspecified']"
   ]
  },
  {
   "cell_type": "code",
   "execution_count": 107,
   "metadata": {},
   "outputs": [
    {
     "data": {
      "text/plain": [
       "female    1669584\n",
       "male       472140\n",
       "Name: dominant_gender, dtype: int64"
      ]
     },
     "execution_count": 107,
     "metadata": {},
     "output_type": "execute_result"
    }
   ],
   "source": [
    "loans.dominant_gender.value_counts()"
   ]
  },
  {
   "cell_type": "code",
   "execution_count": 108,
   "metadata": {},
   "outputs": [
    {
     "data": {
      "text/plain": [
       "Text(3.1999999999999886, 0.5, '')"
      ]
     },
     "execution_count": 108,
     "metadata": {},
     "output_type": "execute_result"
    },
    {
     "data": {
      "image/png": "[encoded data removed]",
      "text/plain": [
       "<Figure size 576x576 with 1 Axes>"
      ]
     },
     "metadata": {},
     "output_type": "display_data"
    }
   ],
   "source": [
    "fig = plt.figure(figsize = (8,8))\n",
    "#fig.patch.set_facecolor('lightgrey')\n",
    "#sns.set(font_scale =1)\n",
    "#ax1 = fig.add_subplot(2,2,1)\n",
    "loans['dominant_gender'].value_counts().plot(kind='pie', autopct='%1.1f%%')\n",
    "#ax1.set_xlabel(\"Proportion of users per Creation Source\")\n",
    "ax1.set_ylabel(None)\n",
    "\n",
    "\n",
    "#sns.countplot(data = adoption_df, x='creation_source',hue='adopted',ax=ax3)\n",
    "#adoption_df['email_domain'].value_counts().plot(kind='pie', autopct='%1.1f%%',explode=(0.05, 0.05, 0.05, 0.05,0.05,0.05),shadow=True,ax=ax3,style='tableau-colorblind10')\n",
    "\n",
    "#plt.savefig('adoption.jpeg',dpi=300)"
   ]
  },
  {
   "cell_type": "code",
   "execution_count": null,
   "metadata": {},
   "outputs": [],
   "source": []
  },
  {
   "cell_type": "code",
   "execution_count": 109,
   "metadata": {},
   "outputs": [
    {
     "data": {
      "text/html": [
       "<div>\n",
       "<style scoped>\n",
       "    .dataframe tbody tr th:only-of-type {\n",
       "        vertical-align: middle;\n",
       "    }\n",
       "\n",
       "    .dataframe tbody tr th {\n",
       "        vertical-align: top;\n",
       "    }\n",
       "\n",
       "    .dataframe thead th {\n",
       "        text-align: right;\n",
       "    }\n",
       "</style>\n",
       "<table border=\"1\" class=\"dataframe\">\n",
       "  <thead>\n",
       "    <tr style=\"text-align: right;\">\n",
       "      <th></th>\n",
       "      <th>column</th>\n",
       "      <th>num_miss</th>\n",
       "      <th>pct_miss</th>\n",
       "    </tr>\n",
       "  </thead>\n",
       "  <tbody>\n",
       "    <tr>\n",
       "      <td>0</td>\n",
       "      <td>loan_id</td>\n",
       "      <td>0</td>\n",
       "      <td>0.0</td>\n",
       "    </tr>\n",
       "    <tr>\n",
       "      <td>0</td>\n",
       "      <td>original_language</td>\n",
       "      <td>0</td>\n",
       "      <td>0.0</td>\n",
       "    </tr>\n",
       "    <tr>\n",
       "      <td>0</td>\n",
       "      <td>funded_amount</td>\n",
       "      <td>0</td>\n",
       "      <td>0.0</td>\n",
       "    </tr>\n",
       "    <tr>\n",
       "      <td>0</td>\n",
       "      <td>loan_amount</td>\n",
       "      <td>0</td>\n",
       "      <td>0.0</td>\n",
       "    </tr>\n",
       "    <tr>\n",
       "      <td>0</td>\n",
       "      <td>status</td>\n",
       "      <td>0</td>\n",
       "      <td>0.0</td>\n",
       "    </tr>\n",
       "    <tr>\n",
       "      <td>0</td>\n",
       "      <td>sector_name</td>\n",
       "      <td>0</td>\n",
       "      <td>0.0</td>\n",
       "    </tr>\n",
       "    <tr>\n",
       "      <td>0</td>\n",
       "      <td>country_name</td>\n",
       "      <td>0</td>\n",
       "      <td>0.0</td>\n",
       "    </tr>\n",
       "    <tr>\n",
       "      <td>0</td>\n",
       "      <td>currency_policy</td>\n",
       "      <td>0</td>\n",
       "      <td>0.0</td>\n",
       "    </tr>\n",
       "    <tr>\n",
       "      <td>0</td>\n",
       "      <td>currency</td>\n",
       "      <td>0</td>\n",
       "      <td>0.0</td>\n",
       "    </tr>\n",
       "    <tr>\n",
       "      <td>0</td>\n",
       "      <td>partner_id</td>\n",
       "      <td>0</td>\n",
       "      <td>0.0</td>\n",
       "    </tr>\n",
       "    <tr>\n",
       "      <td>0</td>\n",
       "      <td>posted_time</td>\n",
       "      <td>0</td>\n",
       "      <td>0.0</td>\n",
       "    </tr>\n",
       "    <tr>\n",
       "      <td>0</td>\n",
       "      <td>lender_term</td>\n",
       "      <td>24</td>\n",
       "      <td>0.0</td>\n",
       "    </tr>\n",
       "    <tr>\n",
       "      <td>0</td>\n",
       "      <td>num_lenders_total</td>\n",
       "      <td>0</td>\n",
       "      <td>0.0</td>\n",
       "    </tr>\n",
       "    <tr>\n",
       "      <td>0</td>\n",
       "      <td>num_journal_entries</td>\n",
       "      <td>0</td>\n",
       "      <td>0.0</td>\n",
       "    </tr>\n",
       "    <tr>\n",
       "      <td>0</td>\n",
       "      <td>num_bulk_entries</td>\n",
       "      <td>0</td>\n",
       "      <td>0.0</td>\n",
       "    </tr>\n",
       "    <tr>\n",
       "      <td>0</td>\n",
       "      <td>gender</td>\n",
       "      <td>0</td>\n",
       "      <td>0.0</td>\n",
       "    </tr>\n",
       "    <tr>\n",
       "      <td>0</td>\n",
       "      <td>borrower_pictured</td>\n",
       "      <td>0</td>\n",
       "      <td>0.0</td>\n",
       "    </tr>\n",
       "    <tr>\n",
       "      <td>0</td>\n",
       "      <td>repayment_interval</td>\n",
       "      <td>0</td>\n",
       "      <td>0.0</td>\n",
       "    </tr>\n",
       "    <tr>\n",
       "      <td>0</td>\n",
       "      <td>distribution_model</td>\n",
       "      <td>0</td>\n",
       "      <td>0.0</td>\n",
       "    </tr>\n",
       "    <tr>\n",
       "      <td>0</td>\n",
       "      <td>group_gender</td>\n",
       "      <td>0</td>\n",
       "      <td>0.0</td>\n",
       "    </tr>\n",
       "    <tr>\n",
       "      <td>0</td>\n",
       "      <td>gender_list</td>\n",
       "      <td>0</td>\n",
       "      <td>0.0</td>\n",
       "    </tr>\n",
       "    <tr>\n",
       "      <td>0</td>\n",
       "      <td>gender_counts</td>\n",
       "      <td>0</td>\n",
       "      <td>0.0</td>\n",
       "    </tr>\n",
       "    <tr>\n",
       "      <td>0</td>\n",
       "      <td>dominant_gender</td>\n",
       "      <td>0</td>\n",
       "      <td>0.0</td>\n",
       "    </tr>\n",
       "  </tbody>\n",
       "</table>\n",
       "</div>"
      ],
      "text/plain": [
       "                column num_miss  pct_miss\n",
       "0              loan_id        0       0.0\n",
       "0    original_language        0       0.0\n",
       "0        funded_amount        0       0.0\n",
       "0          loan_amount        0       0.0\n",
       "0               status        0       0.0\n",
       "0          sector_name        0       0.0\n",
       "0         country_name        0       0.0\n",
       "0      currency_policy        0       0.0\n",
       "0             currency        0       0.0\n",
       "0           partner_id        0       0.0\n",
       "0          posted_time        0       0.0\n",
       "0          lender_term       24       0.0\n",
       "0    num_lenders_total        0       0.0\n",
       "0  num_journal_entries        0       0.0\n",
       "0     num_bulk_entries        0       0.0\n",
       "0               gender        0       0.0\n",
       "0    borrower_pictured        0       0.0\n",
       "0   repayment_interval        0       0.0\n",
       "0   distribution_model        0       0.0\n",
       "0         group_gender        0       0.0\n",
       "0          gender_list        0       0.0\n",
       "0        gender_counts        0       0.0\n",
       "0      dominant_gender        0       0.0"
      ]
     },
     "execution_count": 109,
     "metadata": {},
     "output_type": "execute_result"
    }
   ],
   "source": [
    "#missing values\n",
    "missing_df = pd.DataFrame(columns = ['column','num_miss', 'pct_miss'])\n",
    "tmp2 = pd.DataFrame()\n",
    "\n",
    "for c in loans.columns:\n",
    "    tmp2['column'] = [c]\n",
    "    tmp2['num_miss'] = loans[c].isnull().sum()\n",
    "    tmp2['pct_miss'] = (loans[c].isnull().sum()/ len(loans)).round(3)*100\n",
    "    missing_df = missing_df.append(tmp2)\n",
    "missing_df"
   ]
  },
  {
   "cell_type": "code",
   "execution_count": 119,
   "metadata": {},
   "outputs": [
    {
     "data": {
      "text/plain": [
       "count    2.141700e+06\n",
       "mean     1.307440e+01\n",
       "std      7.185531e+00\n",
       "min      1.000000e+00\n",
       "25%      8.000000e+00\n",
       "50%      1.300000e+01\n",
       "75%      1.400000e+01\n",
       "max      1.560000e+02\n",
       "Name: lender_term, dtype: float64"
      ]
     },
     "execution_count": 119,
     "metadata": {},
     "output_type": "execute_result"
    }
   ],
   "source": [
    "#loans['group_gender'] = loans['gender'].map({'male':'male','female':'female'}).fillna('group')\n",
    "loans.lender_term.describe()\n"
   ]
  },
  {
   "cell_type": "code",
   "execution_count": null,
   "metadata": {},
   "outputs": [],
   "source": []
  }
 ],
 "metadata": {
  "kernelspec": {
   "display_name": "Python 3",
   "language": "python",
   "name": "python3"
  },
  "language_info": {
   "codemirror_mode": {
    "name": "ipython",
    "version": 3
   },
   "file_extension": ".py",
   "mimetype": "text/x-python",
   "name": "python",
   "nbconvert_exporter": "python",
   "pygments_lexer": "ipython3",
   "version": "3.7.4"
  }
 },
 "nbformat": 4,
 "nbformat_minor": 2
}
